{
 "cells": [
  {
   "cell_type": "code",
   "execution_count": 1,
   "id": "30424db1-6f80-4172-b95a-b47e69386470",
   "metadata": {},
   "outputs": [],
   "source": [
    "from pyspark.sql import SparkSession\n"
   ]
  },
  {
   "cell_type": "code",
   "execution_count": 3,
   "id": "e8c95a9d-b8dd-4335-b2ce-38b5a2575396",
   "metadata": {},
   "outputs": [
    {
     "name": "stderr",
     "output_type": "stream",
     "text": [
      "WARNING: Using incubator modules: jdk.incubator.vector\n",
      "Using Spark's default log4j profile: org/apache/spark/log4j2-defaults.properties\n",
      "25/08/10 23:51:09 WARN Utils: Your hostname, Omars-MacBook-Pro.local, resolves to a loopback address: 127.0.0.1; using 192.168.1.44 instead (on interface en0)\n",
      "25/08/10 23:51:09 WARN Utils: Set SPARK_LOCAL_IP if you need to bind to another address\n",
      "Using Spark's default log4j profile: org/apache/spark/log4j2-defaults.properties\n",
      "Setting default log level to \"WARN\".\n",
      "To adjust logging level use sc.setLogLevel(newLevel). For SparkR, use setLogLevel(newLevel).\n",
      "25/08/10 23:51:40 WARN NativeCodeLoader: Unable to load native-hadoop library for your platform... using builtin-java classes where applicable\n"
     ]
    }
   ],
   "source": [
    "spark=SparkSession.builder.appName(\"project\").getOrCreate()"
   ]
  },
  {
   "cell_type": "code",
   "execution_count": 5,
   "id": "bb632673-0a95-4f8a-aaf2-0ecabe9f69be",
   "metadata": {},
   "outputs": [],
   "source": [
    "df=spark.read.csv('sentiment_analysis.csv',inferSchema=True,header=True)"
   ]
  },
  {
   "cell_type": "code",
   "execution_count": 6,
   "id": "21d36267-60a3-4758-a286-df73871dcccb",
   "metadata": {},
   "outputs": [
    {
     "name": "stdout",
     "output_type": "stream",
     "text": [
      "+---+-----+--------------------+\n",
      "| id|label|               tweet|\n",
      "+---+-----+--------------------+\n",
      "|  1|    0|#fingerprint #Pre...|\n",
      "|  2|    0|Finally a transpa...|\n",
      "|  3|    0|We love this! Wou...|\n",
      "|  4|    0|I'm wired I know ...|\n",
      "|  5|    1|What amazing serv...|\n",
      "|  6|    1|iPhone software u...|\n",
      "|  7|    0|Happy for us .. #...|\n",
      "|  8|    0|New Type C charge...|\n",
      "|  9|    0|Bout to go shoppi...|\n",
      "| 10|    0|Photo: #fun #self...|\n",
      "| 11|    1|hey #apple when y...|\n",
      "| 12|    1|Ha! Not heavy mac...|\n",
      "| 13|    1|Contemplating giv...|\n",
      "| 14|    0|I just made anoth...|\n",
      "| 15|    1|@shaqlockholmes @...|\n",
      "| 16|    0|From #DeepEllum t...|\n",
      "| 17|    0|Like and Share if...|\n",
      "| 18|    0|Go crazy !! #ipho...|\n",
      "| 19|    1|The reason I don'...|\n",
      "| 20|    1|How is the apple ...|\n",
      "+---+-----+--------------------+\n",
      "only showing top 20 rows\n"
     ]
    }
   ],
   "source": [
    "df.show()"
   ]
  },
  {
   "cell_type": "code",
   "execution_count": 9,
   "id": "dbd66aa4-e90a-47f0-ae86-bc1061cda213",
   "metadata": {},
   "outputs": [
    {
     "name": "stdout",
     "output_type": "stream",
     "text": [
      "+-------+-----------------+-------------------+--------------------+\n",
      "|summary|               id|              label|               tweet|\n",
      "+-------+-----------------+-------------------+--------------------+\n",
      "|  count|             7920|               7920|                7920|\n",
      "|   mean|           3960.5| 0.2558080808080808|                NULL|\n",
      "| stddev|2286.451399002393|0.43634200610479335|                NULL|\n",
      "|    min|                1|                  0| #Thanksgiving! D...|\n",
      "|    max|             7920|                  1|｡✷ 𝒜 𝓌𝑒𝓁𝓁-𝓇...|\n",
      "+-------+-----------------+-------------------+--------------------+\n",
      "\n"
     ]
    }
   ],
   "source": [
    "df.describe().show()"
   ]
  },
  {
   "cell_type": "code",
   "execution_count": 11,
   "id": "4480f011-d8a8-45b9-83fc-c7fab7c3c3de",
   "metadata": {},
   "outputs": [
    {
     "name": "stdout",
     "output_type": "stream",
     "text": [
      "root\n",
      " |-- id: integer (nullable = true)\n",
      " |-- label: integer (nullable = true)\n",
      " |-- tweet: string (nullable = true)\n",
      "\n"
     ]
    }
   ],
   "source": [
    "df.printSchema()"
   ]
  },
  {
   "cell_type": "code",
   "execution_count": 13,
   "id": "87815b48-f1a5-430d-a49c-31351467e2df",
   "metadata": {},
   "outputs": [
    {
     "name": "stdout",
     "output_type": "stream",
     "text": [
      "+--------------------+\n",
      "|               tweet|\n",
      "+--------------------+\n",
      "|#fingerprint #Pre...|\n",
      "|Finally a transpa...|\n",
      "|We love this! Wou...|\n",
      "|I'm wired I know ...|\n",
      "|What amazing serv...|\n",
      "|iPhone software u...|\n",
      "|Happy for us .. #...|\n",
      "|New Type C charge...|\n",
      "|Bout to go shoppi...|\n",
      "|Photo: #fun #self...|\n",
      "|hey #apple when y...|\n",
      "|Ha! Not heavy mac...|\n",
      "|Contemplating giv...|\n",
      "|I just made anoth...|\n",
      "|@shaqlockholmes @...|\n",
      "|From #DeepEllum t...|\n",
      "|Like and Share if...|\n",
      "|Go crazy !! #ipho...|\n",
      "|The reason I don'...|\n",
      "|How is the apple ...|\n",
      "+--------------------+\n",
      "only showing top 20 rows\n"
     ]
    }
   ],
   "source": [
    "df.select('tweet').show()"
   ]
  },
  {
   "cell_type": "code",
   "execution_count": 35,
   "id": "8da7ed02-55ba-4a30-8f57-6d327f9429fa",
   "metadata": {},
   "outputs": [],
   "source": [
    "from pyspark.sql.functions import col, lower, regexp_replace,length,trim\n",
    "from pyspark.ml.feature import Tokenizer, StopWordsRemover, HashingTF, IDF, StringIndexer\n"
   ]
  },
  {
   "cell_type": "code",
   "execution_count": 17,
   "id": "28f1b092-b27c-4a66-878e-21a87c01140a",
   "metadata": {},
   "outputs": [],
   "source": [
    "tokenizer = Tokenizer(inputCol='tweet', outputCol='words')"
   ]
  },
  {
   "cell_type": "code",
   "execution_count": 19,
   "id": "947813cd-3980-4006-a38a-b7d31d65aa9e",
   "metadata": {},
   "outputs": [],
   "source": [
    "words=tokenizer.transform(df)"
   ]
  },
  {
   "cell_type": "code",
   "execution_count": 21,
   "id": "f21d6098-763e-40c0-aae0-26729944453e",
   "metadata": {},
   "outputs": [
    {
     "name": "stdout",
     "output_type": "stream",
     "text": [
      "+---+-----+----------------------------------------------------------------------------------------------------------------------------------------------------------------------------------------------------------------------------------------------------------------------------------+----------------------------------------------------------------------------------------------------------------------------------------------------------------------------------------------------------------------------------------------------------------------------------------------------+\n",
      "|id |label|tweet                                                                                                                                                                                                                                                                             |words                                                                                                                                                                                                                                                                                               |\n",
      "+---+-----+----------------------------------------------------------------------------------------------------------------------------------------------------------------------------------------------------------------------------------------------------------------------------------+----------------------------------------------------------------------------------------------------------------------------------------------------------------------------------------------------------------------------------------------------------------------------------------------------+\n",
      "|1  |0    |#fingerprint #Pregnancy Test https://goo.gl/h1MfQV #android #apps #beautiful #cute #health #igers #iphoneonly #iphonesia #iphone                                                                                                                                                  |[#fingerprint, #pregnancy, test, https://goo.gl/h1mfqv, #android, #apps, #beautiful, #cute, #health, #igers, #iphoneonly, #iphonesia, #iphone]                                                                                                                                                      |\n",
      "|2  |0    |Finally a transparant silicon case ^^ Thanks to my uncle :) #yay #Sony #Xperia #S #sonyexperias… http://instagram.com/p/YGEt5JC6JM/                                                                                                                                               |[finally, a, transparant, silicon, case, ^^, thanks, to, my, uncle, :), #yay, #sony, #xperia, #s, #sonyexperias…, http://instagram.com/p/yget5jc6jm/]                                                                                                                                               |\n",
      "|3  |0    |We love this! Would you go? #talk #makememories #unplug #relax #iphone #smartphone #wifi #connect... http://fb.me/6N3LsUpCu                                                                                                                                                       |[we, love, this!, would, you, go?, #talk, #makememories, #unplug, #relax, #iphone, #smartphone, #wifi, #connect..., http://fb.me/6n3lsupcu]                                                                                                                                                         |\n",
      "|4  |0    |I'm wired I know I'm George I was made that way ;) #iphone #cute #daventry #home http://instagr.am/p/Li_5_ujS4k/                                                                                                                                                                  |[i'm, wired, i, know, i'm, george, i, was, made, that, way, ;), #iphone, #cute, #daventry, #home, http://instagr.am/p/li_5_ujs4k/]                                                                                                                                                                  |\n",
      "|5  |1    |What amazing service! Apple won't even talk to me about a question I have unless I pay them $19.95 for their stupid support!                                                                                                                                                      |[what, amazing, service!, apple, won't, even, talk, to, me, about, a, question, i, have, unless, i, pay, them, $19.95, for, their, stupid, support!]                                                                                                                                                |\n",
      "|6  |1    |iPhone software update fucked up my phone big time Stupid iPhones                                                                                                                                                                                                                 |[iphone, software, update, fucked, up, my, phone, big, time, stupid, iphones]                                                                                                                                                                                                                       |\n",
      "|7  |0    |Happy for us .. #instapic #instadaily #us #sony #xperia #xperiaZ https://instagram.com/p/z9qGfWlvj7/                                                                                                                                                                              |[happy, for, us, .., #instapic, #instadaily, #us, #sony, #xperia, #xperiaz, https://instagram.com/p/z9qgfwlvj7/]                                                                                                                                                                                    |\n",
      "|8  |0    |New Type C charger cable #UK http://www.ebay.co.uk/itm/-/112598674021 … #bay #Amazon #etsy New Year #Rob Cross #Toby Young #EVEMUN #McMafia #Taylor #SPECTRE 2018 #NewYear #Starting 2018 #recipes #technology #SamsungGalaxyS9 #iPhoneX pic.twitter.com/PjIwq59WtC               |[new, type, c, charger, cable, #uk, http://www.ebay.co.uk/itm/-/112598674021, …, #bay, #amazon, #etsy, new, year, #rob, cross, #toby, young, #evemun, #mcmafia, #taylor, #spectre, 2018, #newyear, #starting, 2018, #recipes, #technology, #samsunggalaxys9, #iphonex, pic.twitter.com/pjiwq59wtc]  |\n",
      "|9  |0    |Bout to go shopping again listening to music #iphone #justme #music #likeforlike #followforfollow… http://instagr.am/p/Vj6bg5tLql/                                                                                                                                                |[bout, to, go, shopping, again, listening, to, music, #iphone, #justme, #music, #likeforlike, #followforfollow…, http://instagr.am/p/vj6bg5tlql/]                                                                                                                                                   |\n",
      "|10 |0    |Photo: #fun #selfie #pool #water #sony #camera #picoftheday #sun #instagood #boy #cute #outdoor... http://tmblr.co/ZAjC0n1ms_Gp8                                                                                                                                                  |[photo:, #fun, #selfie, #pool, #water, #sony, #camera, #picoftheday, #sun, #instagood, #boy, #cute, #outdoor..., http://tmblr.co/zajc0n1ms_gp8]                                                                                                                                                     |\n",
      "|11 |1    |hey #apple when you make a new ipod dont make it a new color or .2inches thinner make it not crash every five fuckin minite.                                                                                                                                                      |[hey, #apple, when, you, make, a, new, ipod, dont, make, it, a, new, color, or, .2inches, thinner, make, it, not, crash, every, five, fuckin, minite.]                                                                                                                                              |\n",
      "|12 |1    |Ha! Not heavy machinery but it does what I need it to. @Apple really dropped the ball with that design. #drinkyourhaterade                                                                                                                                                        |[ha!, not, heavy, machinery, but, it, does, what, i, need, it, to., @apple, really, dropped, the, ball, with, that, design., #drinkyourhaterade]                                                                                                                                                    |\n",
      "|13 |1    |Contemplating giving in to the iPhone bandwagon simply because #Cellcom has no new Androids #depressing #IDontWantTo                                                                                                                                                              |[contemplating, giving, in, to, the, iphone, bandwagon, simply, because, #cellcom, has, no, new, androids, #depressing, #idontwantto]                                                                                                                                                               |\n",
      "|14 |0    |I just made another crazy purchase lol my theory is 'Work hard, Play Hard' Lol #iPad #Apple #Shopping http://instagr.am/p/NUyFHvyE7I/                                                                                                                                             |[i, just, made, another, crazy, purchase, lol, my, theory, is, 'work, hard,, play, hard', lol, #ipad, #apple, #shopping, http://instagr.am/p/nuyfhvye7i/]                                                                                                                                           |\n",
      "|15 |1    |@shaqlockholmes @sam_louise1991 the battery is so painful! I charge it overnight and by lunchtime battery is dead! #HateOrange.                                                                                                                                                   |[@shaqlockholmes, @sam_louise1991, the, battery, is, so, painful!, i, charge, it, overnight, and, by, lunchtime, battery, is, dead!, #hateorange.]                                                                                                                                                  |\n",
      "|16 |0    |From #DeepEllum towards #downtown #Dallas. #BigD #Saturday #RX100M3 #Sony #summer #urban http://instagram.com/p/pzJoOaQqZ4/                                                                                                                                                       |[from, #deepellum, towards, #downtown, #dallas., #bigd, #saturday, #rx100m3, #sony, #summer, #urban, http://instagram.com/p/pzjooaqqz4/]                                                                                                                                                            |\n",
      "|17 |0    |Like and Share if you want this 3D Phone Case for Iphone #iphone #s ... https://bestcheapphones.com/index.php/product/2016-new-sweet-3d-mineral-water-bottle-love-ice-cream-phone-case-couples-soft-silicone-rubber-case-for-iphone-7-6-6s-plus-5-5se/ …pic.twitter.com/gFKN0Yec6J|[like, and, share, if, you, want, this, 3d, phone, case, for, iphone, #iphone, #s, ..., https://bestcheapphones.com/index.php/product/2016-new-sweet-3d-mineral-water-bottle-love-ice-cream-phone-case-couples-soft-silicone-rubber-case-for-iphone-7-6-6s-plus-5-5se/, …pic.twitter.com/gfkn0yec6j]|\n",
      "|18 |0    |Go crazy !! #iphonesia, #iphone, #instagood, #instagram, #photooftheday, #tweegram, ,… http://instagram.com/p/d0R5SqrY5B/                                                                                                                                                         |[go, crazy, !!, #iphonesia,, #iphone,, #instagood,, #instagram,, #photooftheday,, #tweegram,, ,…, http://instagram.com/p/d0r5sqry5b/]                                                                                                                                                               |\n",
      "|19 |1    |The reason I don't have one. #iphone #suck #apple #truth #truthbetold #agree #fact #realitycheck #blackberrypic.twitter.com/zpggd7caZN                                                                                                                                            |[the, reason, i, don't, have, one., #iphone, #suck, #apple, #truth, #truthbetold, #agree, #fact, #realitycheck, #blackberrypic.twitter.com/zpggd7cazn]                                                                                                                                              |\n",
      "|20 |1    |How is the apple store gunna be out of 5C screens ?!? It's Monday and ur the FUCKING APPLE STORE !!! #fuckingpissed                                                                                                                                                               |[how, is, the, apple, store, gunna, be, out, of, 5c, screens, ?!?, it's, monday, and, ur, the, fucking, apple, store, !!!, #fuckingpissed]                                                                                                                                                          |\n",
      "+---+-----+----------------------------------------------------------------------------------------------------------------------------------------------------------------------------------------------------------------------------------------------------------------------------------+----------------------------------------------------------------------------------------------------------------------------------------------------------------------------------------------------------------------------------------------------------------------------------------------------+\n",
      "only showing top 20 rows\n"
     ]
    }
   ],
   "source": [
    "words.show(truncate=False)"
   ]
  },
  {
   "cell_type": "code",
   "execution_count": 23,
   "id": "bf8a5452-31d9-46f8-b376-07b3f1c2d158",
   "metadata": {},
   "outputs": [],
   "source": [
    "df_clean = df.withColumn(\n",
    "    \"tweet\",\n",
    "    lower(regexp_replace(\"tweet\", r\"http\\S+|@\\w+|#\\w+|[^a-zA-Z\\s]\", \"\"))\n",
    ")"
   ]
  },
  {
   "cell_type": "code",
   "execution_count": 25,
   "id": "8d9a2edd-4bcb-4fa0-ba71-b6eb8d1213cf",
   "metadata": {},
   "outputs": [
    {
     "name": "stdout",
     "output_type": "stream",
     "text": [
      "+---+-----+--------------------+\n",
      "| id|label|               tweet|\n",
      "+---+-----+--------------------+\n",
      "|  1|    0|      test          |\n",
      "|  2|    0|finally a transpa...|\n",
      "|  3|    0|we love this woul...|\n",
      "|  4|    0|im wired i know i...|\n",
      "|  5|    1|what amazing serv...|\n",
      "|  6|    1|iphone software u...|\n",
      "|  7|    0|happy for us        |\n",
      "|  8|    0|new type c charge...|\n",
      "|  9|    0|bout to go shoppi...|\n",
      "| 10|    0|  photo             |\n",
      "| 11|    1|hey  when you mak...|\n",
      "| 12|    1|ha not heavy mach...|\n",
      "| 13|    1|contemplating giv...|\n",
      "| 14|    0|i just made anoth...|\n",
      "| 15|    1|  the battery is ...|\n",
      "| 16|    0|from  towards    ...|\n",
      "| 17|    0|like and share if...|\n",
      "| 18|    0|   go crazy         |\n",
      "| 19|    1|the reason i dont...|\n",
      "| 20|    1|how is the apple ...|\n",
      "+---+-----+--------------------+\n",
      "only showing top 20 rows\n"
     ]
    },
    {
     "name": "stderr",
     "output_type": "stream",
     "text": [
      "                                                                                \r"
     ]
    }
   ],
   "source": [
    "df_clean.show()"
   ]
  },
  {
   "cell_type": "code",
   "execution_count": 27,
   "id": "d28a578a-3571-4e67-832a-7995f04cb5c6",
   "metadata": {},
   "outputs": [
    {
     "name": "stdout",
     "output_type": "stream",
     "text": [
      "+-------------------------------------------------------------------------------------------------------------------+\n",
      "|tweet                                                                                                              |\n",
      "+-------------------------------------------------------------------------------------------------------------------+\n",
      "|  test                                                                                                             |\n",
      "|finally a transparant silicon case  thanks to my uncle                                                             |\n",
      "|we love this would you go                                                                                          |\n",
      "|im wired i know im george i was made that way                                                                      |\n",
      "|what amazing service apple wont even talk to me about a question i have unless i pay them  for their stupid support|\n",
      "|iphone software update fucked up my phone big time stupid iphones                                                  |\n",
      "|happy for us                                                                                                       |\n",
      "|new type c charger cable       new year  cross  young             pictwittercompjiwqwtc                            |\n",
      "|bout to go shopping again listening to music                                                                       |\n",
      "|photo                                                                                                              |\n",
      "+-------------------------------------------------------------------------------------------------------------------+\n",
      "only showing top 10 rows\n"
     ]
    }
   ],
   "source": [
    "df_clean.select(\"tweet\").show(10, truncate=False)"
   ]
  },
  {
   "cell_type": "code",
   "execution_count": 29,
   "id": "6895872a-b2d2-4502-b5c5-59b486da1f50",
   "metadata": {},
   "outputs": [],
   "source": [
    "df=df_clean"
   ]
  },
  {
   "cell_type": "code",
   "execution_count": 31,
   "id": "cea8c486-fc96-4882-a9bf-8963b111d3d3",
   "metadata": {},
   "outputs": [
    {
     "name": "stdout",
     "output_type": "stream",
     "text": [
      "+-------------------------------------------------------------------------------------------------------------------+\n",
      "|tweet                                                                                                              |\n",
      "+-------------------------------------------------------------------------------------------------------------------+\n",
      "|  test                                                                                                             |\n",
      "|finally a transparant silicon case  thanks to my uncle                                                             |\n",
      "|we love this would you go                                                                                          |\n",
      "|im wired i know im george i was made that way                                                                      |\n",
      "|what amazing service apple wont even talk to me about a question i have unless i pay them  for their stupid support|\n",
      "|iphone software update fucked up my phone big time stupid iphones                                                  |\n",
      "|happy for us                                                                                                       |\n",
      "|new type c charger cable       new year  cross  young             pictwittercompjiwqwtc                            |\n",
      "|bout to go shopping again listening to music                                                                       |\n",
      "|photo                                                                                                              |\n",
      "+-------------------------------------------------------------------------------------------------------------------+\n",
      "only showing top 10 rows\n"
     ]
    }
   ],
   "source": [
    "df.select(\"tweet\").show(10,truncate=False)"
   ]
  },
  {
   "cell_type": "code",
   "execution_count": 37,
   "id": "f9e45eb7-e355-41cd-ad2a-5672c4b9ad9c",
   "metadata": {},
   "outputs": [],
   "source": [
    "df = df.withColumn(\"tweet\", trim(df[\"tweet\"]))"
   ]
  },
  {
   "cell_type": "code",
   "execution_count": 39,
   "id": "63a9ee82-536d-4ecb-857b-19f358f2744c",
   "metadata": {},
   "outputs": [
    {
     "name": "stdout",
     "output_type": "stream",
     "text": [
      "+-------------------------------------------------------------------------------------------------------------------+\n",
      "|tweet                                                                                                              |\n",
      "+-------------------------------------------------------------------------------------------------------------------+\n",
      "|test                                                                                                               |\n",
      "|finally a transparant silicon case  thanks to my uncle                                                             |\n",
      "|we love this would you go                                                                                          |\n",
      "|im wired i know im george i was made that way                                                                      |\n",
      "|what amazing service apple wont even talk to me about a question i have unless i pay them  for their stupid support|\n",
      "|iphone software update fucked up my phone big time stupid iphones                                                  |\n",
      "|happy for us                                                                                                       |\n",
      "|new type c charger cable       new year  cross  young             pictwittercompjiwqwtc                            |\n",
      "|bout to go shopping again listening to music                                                                       |\n",
      "|photo                                                                                                              |\n",
      "+-------------------------------------------------------------------------------------------------------------------+\n",
      "only showing top 10 rows\n"
     ]
    }
   ],
   "source": [
    "df.select(\"tweet\").show(10,truncate=False)"
   ]
  },
  {
   "cell_type": "code",
   "execution_count": 41,
   "id": "ea9847b6-e9a9-45f0-a04b-68a89d40bc94",
   "metadata": {},
   "outputs": [],
   "source": [
    "df = df.withColumn(\"tweet\", regexp_replace(\"tweet\", r\"\\bpictwitter\\w+\\b\", \"\"))\n"
   ]
  },
  {
   "cell_type": "code",
   "execution_count": 43,
   "id": "8f6b5038-d8f4-4a52-baa2-b838a496a2ff",
   "metadata": {},
   "outputs": [
    {
     "name": "stdout",
     "output_type": "stream",
     "text": [
      "+-------------------------------------------------------------------------------------------------------------------+\n",
      "|tweet                                                                                                              |\n",
      "+-------------------------------------------------------------------------------------------------------------------+\n",
      "|test                                                                                                               |\n",
      "|finally a transparant silicon case  thanks to my uncle                                                             |\n",
      "|we love this would you go                                                                                          |\n",
      "|im wired i know im george i was made that way                                                                      |\n",
      "|what amazing service apple wont even talk to me about a question i have unless i pay them  for their stupid support|\n",
      "|iphone software update fucked up my phone big time stupid iphones                                                  |\n",
      "|happy for us                                                                                                       |\n",
      "|new type c charger cable       new year  cross  young                                                              |\n",
      "|bout to go shopping again listening to music                                                                       |\n",
      "|photo                                                                                                              |\n",
      "+-------------------------------------------------------------------------------------------------------------------+\n",
      "only showing top 10 rows\n"
     ]
    }
   ],
   "source": [
    "df.select(\"tweet\").show(10,truncate=False)"
   ]
  },
  {
   "cell_type": "code",
   "execution_count": 45,
   "id": "556482f9-2ef6-489c-8fde-ec1dde9b6b78",
   "metadata": {},
   "outputs": [],
   "source": [
    "df = df.withColumn(\"tweet\", regexp_replace(\"tweet\", r\"\\s{2,}\", \" \"))\n",
    "\n",
    "# Remove leading/trailing spaces\n",
    "df = df.withColumn(\"tweet\", trim(df[\"tweet\"]))\n",
    "\n"
   ]
  },
  {
   "cell_type": "code",
   "execution_count": 49,
   "id": "b0bfacca-d486-433c-8f80-b5aaba2d34f1",
   "metadata": {},
   "outputs": [
    {
     "name": "stdout",
     "output_type": "stream",
     "text": [
      "+------------------------------------------------------------------------------------------------------------------+\n",
      "|tweet                                                                                                             |\n",
      "+------------------------------------------------------------------------------------------------------------------+\n",
      "|test                                                                                                              |\n",
      "|finally a transparant silicon case thanks to my uncle                                                             |\n",
      "|we love this would you go                                                                                         |\n",
      "|im wired i know im george i was made that way                                                                     |\n",
      "|what amazing service apple wont even talk to me about a question i have unless i pay them for their stupid support|\n",
      "|iphone software update fucked up my phone big time stupid iphones                                                 |\n",
      "|happy for us                                                                                                      |\n",
      "|new type c charger cable new year cross young                                                                     |\n",
      "|bout to go shopping again listening to music                                                                      |\n",
      "|photo                                                                                                             |\n",
      "|hey when you make a new ipod dont make it a new color or inches thinner make it not crash every five fuckin minite|\n",
      "|ha not heavy machinery but it does what i need it to really dropped the ball with that design                     |\n",
      "|contemplating giving in to the iphone bandwagon simply because has no new androids                                |\n",
      "|i just made another crazy purchase lol my theory is work hard play hard lol                                       |\n",
      "|the battery is so painful i charge it overnight and by lunchtime battery is dead                                  |\n",
      "|from towards                                                                                                      |\n",
      "|like and share if you want this d phone case for iphone                                                           |\n",
      "|go crazy                                                                                                          |\n",
      "|the reason i dont have one twittercomzpggdcazn                                                                    |\n",
      "|how is the apple store gunna be out of c screens its monday and ur the fucking apple store                        |\n",
      "+------------------------------------------------------------------------------------------------------------------+\n",
      "only showing top 20 rows\n"
     ]
    }
   ],
   "source": [
    "df.select(\"tweet\").show(20,truncate=False)"
   ]
  },
  {
   "cell_type": "code",
   "execution_count": 53,
   "id": "c4f10665-462b-4794-a002-255315521374",
   "metadata": {},
   "outputs": [
    {
     "name": "stderr",
     "output_type": "stream",
     "text": [
      "25/08/11 01:12:21 WARN StopWordsRemover: Default locale set was [en_EG]; however, it was not found in available locales in JVM, falling back to en_US locale. Set param `locale` in order to respect another locale.\n"
     ]
    },
    {
     "name": "stdout",
     "output_type": "stream",
     "text": [
      "+------------------------------------------------------------------------------------------------------------------+---------------------------------------------------------------------------------------------------------+\n",
      "|tweet                                                                                                             |filtered_words                                                                                           |\n",
      "+------------------------------------------------------------------------------------------------------------------+---------------------------------------------------------------------------------------------------------+\n",
      "|test                                                                                                              |[test]                                                                                                   |\n",
      "|finally a transparant silicon case thanks to my uncle                                                             |[finally, transparant, silicon, case, thanks, uncle]                                                     |\n",
      "|we love this would you go                                                                                         |[love, go]                                                                                               |\n",
      "|im wired i know im george i was made that way                                                                     |[im, wired, know, im, george, made, way]                                                                 |\n",
      "|what amazing service apple wont even talk to me about a question i have unless i pay them for their stupid support|[amazing, service, apple, wont, even, talk, question, unless, pay, stupid, support]                      |\n",
      "|iphone software update fucked up my phone big time stupid iphones                                                 |[iphone, software, update, fucked, phone, big, time, stupid, iphones]                                    |\n",
      "|happy for us                                                                                                      |[happy, us]                                                                                              |\n",
      "|new type c charger cable new year cross young                                                                     |[new, type, c, charger, cable, new, year, cross, young]                                                  |\n",
      "|bout to go shopping again listening to music                                                                      |[bout, go, shopping, listening, music]                                                                   |\n",
      "|photo                                                                                                             |[photo]                                                                                                  |\n",
      "|hey when you make a new ipod dont make it a new color or inches thinner make it not crash every five fuckin minite|[hey, make, new, ipod, dont, make, new, color, inches, thinner, make, crash, every, five, fuckin, minite]|\n",
      "|ha not heavy machinery but it does what i need it to really dropped the ball with that design                     |[ha, heavy, machinery, need, really, dropped, ball, design]                                              |\n",
      "|contemplating giving in to the iphone bandwagon simply because has no new androids                                |[contemplating, giving, iphone, bandwagon, simply, new, androids]                                        |\n",
      "|i just made another crazy purchase lol my theory is work hard play hard lol                                       |[made, another, crazy, purchase, lol, theory, work, hard, play, hard, lol]                               |\n",
      "|the battery is so painful i charge it overnight and by lunchtime battery is dead                                  |[battery, painful, charge, overnight, lunchtime, battery, dead]                                          |\n",
      "|from towards                                                                                                      |[towards]                                                                                                |\n",
      "|like and share if you want this d phone case for iphone                                                           |[like, share, want, d, phone, case, iphone]                                                              |\n",
      "|go crazy                                                                                                          |[go, crazy]                                                                                              |\n",
      "|the reason i dont have one twittercomzpggdcazn                                                                    |[reason, dont, one, twittercomzpggdcazn]                                                                 |\n",
      "|how is the apple store gunna be out of c screens its monday and ur the fucking apple store                        |[apple, store, gunna, c, screens, monday, ur, fucking, apple, store]                                     |\n",
      "+------------------------------------------------------------------------------------------------------------------+---------------------------------------------------------------------------------------------------------+\n",
      "only showing top 20 rows\n"
     ]
    }
   ],
   "source": [
    "remover = StopWordsRemover(inputCol=\"words\", outputCol=\"filtered_words\")\n",
    "df = remover.transform(df)\n",
    "df.select(\"tweet\", \"filtered_words\").show(truncate=False)"
   ]
  },
  {
   "cell_type": "code",
   "execution_count": 57,
   "id": "ca244f3e-d5c3-4153-80c5-6b074f903f69",
   "metadata": {},
   "outputs": [
    {
     "name": "stdout",
     "output_type": "stream",
     "text": [
      "+--------------------+--------------------+\n",
      "|               tweet|      filtered_words|\n",
      "+--------------------+--------------------+\n",
      "|                test|              [test]|\n",
      "|finally a transpa...|[finally, transpa...|\n",
      "|we love this woul...|          [love, go]|\n",
      "|im wired i know i...|[im, wired, know,...|\n",
      "|what amazing serv...|[amazing, service...|\n",
      "|iphone software u...|[iphone, software...|\n",
      "|        happy for us|         [happy, us]|\n",
      "|new type c charge...|[new, type, c, ch...|\n",
      "|bout to go shoppi...|[bout, go, shoppi...|\n",
      "|               photo|             [photo]|\n",
      "|hey when you make...|[hey, make, new, ...|\n",
      "|ha not heavy mach...|[ha, heavy, machi...|\n",
      "|contemplating giv...|[contemplating, g...|\n",
      "|i just made anoth...|[made, another, c...|\n",
      "|the battery is so...|[battery, painful...|\n",
      "|        from towards|           [towards]|\n",
      "|like and share if...|[like, share, wan...|\n",
      "|            go crazy|         [go, crazy]|\n",
      "|the reason i dont...|[reason, dont, on...|\n",
      "|how is the apple ...|[apple, store, gu...|\n",
      "+--------------------+--------------------+\n",
      "only showing top 20 rows\n"
     ]
    }
   ],
   "source": [
    "df.select('tweet','filtered_words').show()"
   ]
  },
  {
   "cell_type": "code",
   "execution_count": 59,
   "id": "ef7790a6-bb55-43e0-b7d5-cc33edc10d93",
   "metadata": {},
   "outputs": [
    {
     "name": "stderr",
     "output_type": "stream",
     "text": [
      "[Stage 18:>                                                         (0 + 1) / 1]\r"
     ]
    },
    {
     "name": "stdout",
     "output_type": "stream",
     "text": [
      "+--------+-----+\n",
      "|word    |count|\n",
      "+--------+-----+\n",
      "|new     |876  |\n",
      "|iphone  |759  |\n",
      "|phone   |735  |\n",
      "|apple   |686  |\n",
      "|follow  |544  |\n",
      "|love    |414  |\n",
      "|rt      |321  |\n",
      "|day     |312  |\n",
      "|gain    |309  |\n",
      "|like    |309  |\n",
      "|im      |308  |\n",
      "|get     |293  |\n",
      "|back    |285  |\n",
      "|got     |279  |\n",
      "|happy   |239  |\n",
      "|one     |204  |\n",
      "|time    |200  |\n",
      "|photo   |198  |\n",
      "|cant    |188  |\n",
      "|everyone|179  |\n",
      "+--------+-----+\n",
      "only showing top 20 rows\n"
     ]
    },
    {
     "name": "stderr",
     "output_type": "stream",
     "text": [
      "                                                                                \r"
     ]
    }
   ],
   "source": [
    "from pyspark.sql.functions import explode, col\n",
    "\n",
    "# Explode filtered words into separate rows\n",
    "words_df = df.select(explode(col(\"filtered_words\")).alias(\"word\"))\n",
    "\n",
    "# Count and sort by frequency\n",
    "word_counts = words_df.groupBy(\"word\").count().orderBy(col(\"count\").desc())\n",
    "\n",
    "word_counts.show(20, truncate=False)\n"
   ]
  },
  {
   "cell_type": "code",
   "execution_count": 63,
   "id": "eeb431a7-3e64-46a2-b216-67f16a84ea80",
   "metadata": {},
   "outputs": [
    {
     "name": "stdout",
     "output_type": "stream",
     "text": [
      "+-------+-----+\n",
      "|hashtag|count|\n",
      "+-------+-----+\n",
      "|       | 7920|\n",
      "+-------+-----+\n",
      "\n"
     ]
    }
   ],
   "source": [
    "from pyspark.sql.functions import regexp_extract\n",
    "\n",
    "df_hashtags = df.withColumn(\"hashtag\", regexp_extract(\"tweet\", r\"#(\\w+)\", 1))\n",
    "df_hashtags.groupBy(\"hashtag\").count().orderBy(\"count\", ascending=False).show(20)\n"
   ]
  },
  {
   "cell_type": "code",
   "execution_count": 65,
   "id": "f4d68f2c-2e7e-4e3a-acb2-bf998d1619f0",
   "metadata": {},
   "outputs": [
    {
     "name": "stdout",
     "output_type": "stream",
     "text": [
      "+---+-----+--------------------+--------------------+--------------------+\n",
      "| id|label|               tweet|               words|      filtered_words|\n",
      "+---+-----+--------------------+--------------------+--------------------+\n",
      "|  1|    0|                test|              [test]|              [test]|\n",
      "|  2|    0|finally a transpa...|[finally, a, tran...|[finally, transpa...|\n",
      "|  3|    0|we love this woul...|[we, love, this, ...|          [love, go]|\n",
      "|  4|    0|im wired i know i...|[im, wired, i, kn...|[im, wired, know,...|\n",
      "|  5|    1|what amazing serv...|[what, amazing, s...|[amazing, service...|\n",
      "|  6|    1|iphone software u...|[iphone, software...|[iphone, software...|\n",
      "|  7|    0|        happy for us|    [happy, for, us]|         [happy, us]|\n",
      "|  8|    0|new type c charge...|[new, type, c, ch...|[new, type, c, ch...|\n",
      "|  9|    0|bout to go shoppi...|[bout, to, go, sh...|[bout, go, shoppi...|\n",
      "| 10|    0|               photo|             [photo]|             [photo]|\n",
      "| 11|    1|hey when you make...|[hey, when, you, ...|[hey, make, new, ...|\n",
      "| 12|    1|ha not heavy mach...|[ha, not, heavy, ...|[ha, heavy, machi...|\n",
      "| 13|    1|contemplating giv...|[contemplating, g...|[contemplating, g...|\n",
      "| 14|    0|i just made anoth...|[i, just, made, a...|[made, another, c...|\n",
      "| 15|    1|the battery is so...|[the, battery, is...|[battery, painful...|\n",
      "| 16|    0|        from towards|     [from, towards]|           [towards]|\n",
      "| 17|    0|like and share if...|[like, and, share...|[like, share, wan...|\n",
      "| 18|    0|            go crazy|         [go, crazy]|         [go, crazy]|\n",
      "| 19|    1|the reason i dont...|[the, reason, i, ...|[reason, dont, on...|\n",
      "| 20|    1|how is the apple ...|[how, is, the, ap...|[apple, store, gu...|\n",
      "+---+-----+--------------------+--------------------+--------------------+\n",
      "only showing top 20 rows\n"
     ]
    }
   ],
   "source": [
    "df.show()"
   ]
  },
  {
   "cell_type": "code",
   "execution_count": 67,
   "id": "60f41647-3a0f-4cb5-8cc0-ab619e77d12f",
   "metadata": {},
   "outputs": [
    {
     "name": "stdout",
     "output_type": "stream",
     "text": [
      "+-----+-----+\n",
      "|label|count|\n",
      "+-----+-----+\n",
      "|    1| 2026|\n",
      "|    0| 5894|\n",
      "+-----+-----+\n",
      "\n"
     ]
    }
   ],
   "source": [
    "# Count true labels\n",
    "df.groupBy(\"label\").count().show()\n",
    "\n"
   ]
  },
  {
   "cell_type": "code",
   "execution_count": 69,
   "id": "014fe70f-93bb-4d47-948d-e757952fd9a8",
   "metadata": {},
   "outputs": [
    {
     "name": "stdout",
     "output_type": "stream",
     "text": [
      "+--------------------+-----+\n",
      "|               words|count|\n",
      "+--------------------+-----+\n",
      "|[excuse, me, wait...|    1|\n",
      "|[my, small, garde...|    2|\n",
      "|[yeeee, new, phon...|    1|\n",
      "|[i, like, api, ch...|    1|\n",
      "|[good, birthday, ...|    1|\n",
      "|[in, or, yrs, i, ...|    1|\n",
      "|[mission, accompl...|    1|\n",
      "|[just, got, my, b...|    1|\n",
      "|[another, cool, p...|    1|\n",
      "|[oneplusofficial,...|    1|\n",
      "|[megansum, being,...|    1|\n",
      "|[phone, fucked, c...|    1|\n",
      "|[just, dropped, t...|    1|\n",
      "|[new, smartphone, d]|    1|\n",
      "|[is, this, wat, w...|    1|\n",
      "|[iphones, stuck, ...|    1|\n",
      "|[playing, video, ...|    1|\n",
      "|[when, my, phone,...|    1|\n",
      "|[gain, followers,...|    1|\n",
      "|[guess, what, cam...|    1|\n",
      "+--------------------+-----+\n",
      "only showing top 20 rows\n"
     ]
    }
   ],
   "source": [
    "df.groupBy(\"\").count().show()"
   ]
  },
  {
   "cell_type": "code",
   "execution_count": 71,
   "id": "1b602468-a9fc-4aca-b513-4f854222a324",
   "metadata": {},
   "outputs": [],
   "source": [
    "model_data = df.select(\"filtered_words\", \"label\")\n"
   ]
  },
  {
   "cell_type": "code",
   "execution_count": 73,
   "id": "cd6659de-2141-4f2c-98b6-9c29e8419ab1",
   "metadata": {},
   "outputs": [
    {
     "name": "stdout",
     "output_type": "stream",
     "text": [
      "+--------------------+-----+\n",
      "|      filtered_words|label|\n",
      "+--------------------+-----+\n",
      "|              [test]|    0|\n",
      "|[finally, transpa...|    0|\n",
      "|          [love, go]|    0|\n",
      "|[im, wired, know,...|    0|\n",
      "|[amazing, service...|    1|\n",
      "|[iphone, software...|    1|\n",
      "|         [happy, us]|    0|\n",
      "|[new, type, c, ch...|    0|\n",
      "|[bout, go, shoppi...|    0|\n",
      "|             [photo]|    0|\n",
      "|[hey, make, new, ...|    1|\n",
      "|[ha, heavy, machi...|    1|\n",
      "|[contemplating, g...|    1|\n",
      "|[made, another, c...|    0|\n",
      "|[battery, painful...|    1|\n",
      "|           [towards]|    0|\n",
      "|[like, share, wan...|    0|\n",
      "|         [go, crazy]|    0|\n",
      "|[reason, dont, on...|    1|\n",
      "|[apple, store, gu...|    1|\n",
      "+--------------------+-----+\n",
      "only showing top 20 rows\n"
     ]
    }
   ],
   "source": [
    "model_data.show()"
   ]
  },
  {
   "cell_type": "code",
   "execution_count": 75,
   "id": "ea52c0d9-daa6-47c7-b393-42aa95f7b0cd",
   "metadata": {},
   "outputs": [
    {
     "name": "stdout",
     "output_type": "stream",
     "text": [
      "+--------+-----+\n",
      "|word    |count|\n",
      "+--------+-----+\n",
      "|new     |876  |\n",
      "|iphone  |759  |\n",
      "|phone   |735  |\n",
      "|apple   |686  |\n",
      "|follow  |544  |\n",
      "|love    |414  |\n",
      "|rt      |321  |\n",
      "|day     |312  |\n",
      "|gain    |309  |\n",
      "|like    |309  |\n",
      "|im      |308  |\n",
      "|get     |293  |\n",
      "|back    |285  |\n",
      "|got     |279  |\n",
      "|happy   |239  |\n",
      "|one     |204  |\n",
      "|time    |200  |\n",
      "|photo   |198  |\n",
      "|cant    |188  |\n",
      "|everyone|179  |\n",
      "+--------+-----+\n",
      "only showing top 20 rows\n"
     ]
    }
   ],
   "source": [
    "from pyspark.sql.functions import explode, col\n",
    "\n",
    "# Explode filtered words into separate rows\n",
    "words_df = df.select(explode(col(\"filtered_words\")).alias(\"word\"))\n",
    "\n",
    "# Count and sort by frequency\n",
    "word_counts = words_df.groupBy(\"word\").count().orderBy(col(\"count\").desc())\n",
    "\n",
    "word_counts.show(20, truncate=False)\n"
   ]
  },
  {
   "cell_type": "code",
   "execution_count": 77,
   "id": "58511b88-a210-4351-9125-62bb55bf149e",
   "metadata": {},
   "outputs": [
    {
     "data": {
      "image/png": "[encoded data removed]",
      "text/plain": [
       "<Figure size 1200x600 with 1 Axes>"
      ]
     },
     "metadata": {},
     "output_type": "display_data"
    }
   ],
   "source": [
    "import matplotlib.pyplot as plt\n",
    "\n",
    "# Convert to Pandas dataframe\n",
    "top_words = word_counts.limit(20).toPandas()\n",
    "\n",
    "# Plot bar chart\n",
    "plt.figure(figsize=(12,6))\n",
    "plt.bar(top_words['word'], top_words['count'])\n",
    "plt.xticks(rotation=45)\n",
    "plt.title('Top 20 Most Frequent Words')\n",
    "plt.xlabel('Words')\n",
    "plt.ylabel('Frequency')\n",
    "plt.show()\n"
   ]
  },
  {
   "cell_type": "code",
   "execution_count": null,
   "id": "3de6f056-8ac6-4c9f-88b8-8ba169d94dd8",
   "metadata": {},
   "outputs": [],
   "source": []
  }
 ],
 "metadata": {
  "kernelspec": {
   "display_name": "Python [conda env:base] *",
   "language": "python",
   "name": "conda-base-py"
  },
  "language_info": {
   "codemirror_mode": {
    "name": "ipython",
    "version": 3
   },
   "file_extension": ".py",
   "mimetype": "text/x-python",
   "name": "python",
   "nbconvert_exporter": "python",
   "pygments_lexer": "ipython3",
   "version": "3.12.7"
  }
 },
 "nbformat": 4,
 "nbformat_minor": 5
}
