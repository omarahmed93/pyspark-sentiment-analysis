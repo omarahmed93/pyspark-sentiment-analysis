{
 "cells": [
  {
   "cell_type": "code",
   "execution_count": 1,
   "id": "30424db1-6f80-4172-b95a-b47e69386470",
   "metadata": {},
   "outputs": [],
   "source": [
    "from pyspark.sql import SparkSession\n"
   ]
  },
  {
   "cell_type": "code",
   "execution_count": 3,
   "id": "e8c95a9d-b8dd-4335-b2ce-38b5a2575396",
   "metadata": {},
   "outputs": [
    {
     "name": "stderr",
     "output_type": "stream",
     "text": [
      "WARNING: Using incubator modules: jdk.incubator.vector\n",
      "Using Spark's default log4j profile: org/apache/spark/log4j2-defaults.properties\n",
      "25/08/08 00:15:23 WARN Utils: Your hostname, Omars-MacBook-Pro.local, resolves to a loopback address: 127.0.0.1; using 192.168.1.33 instead (on interface en0)\n",
      "25/08/08 00:15:23 WARN Utils: Set SPARK_LOCAL_IP if you need to bind to another address\n",
      "Using Spark's default log4j profile: org/apache/spark/log4j2-defaults.properties\n",
      "Setting default log level to \"WARN\".\n",
      "To adjust logging level use sc.setLogLevel(newLevel). For SparkR, use setLogLevel(newLevel).\n",
      "25/08/08 00:15:54 WARN NativeCodeLoader: Unable to load native-hadoop library for your platform... using builtin-java classes where applicable\n",
      "25/08/08 00:15:54 WARN Utils: Service 'SparkUI' could not bind on port 4040. Attempting port 4041.\n",
      "25/08/08 00:15:54 WARN Utils: Service 'SparkUI' could not bind on port 4041. Attempting port 4042.\n",
      "25/08/08 00:15:54 WARN Utils: Service 'SparkUI' could not bind on port 4042. Attempting port 4043.\n"
     ]
    }
   ],
   "source": [
    "spark=SparkSession.builder.appName(\"project\").getOrCreate()"
   ]
  },
  {
   "cell_type": "code",
   "execution_count": 5,
   "id": "bb632673-0a95-4f8a-aaf2-0ecabe9f69be",
   "metadata": {},
   "outputs": [],
   "source": [
    "df=spark.read.csv('sentiment_analysis.csv',inferSchema=True,header=True)"
   ]
  },
  {
   "cell_type": "code",
   "execution_count": 7,
   "id": "21d36267-60a3-4758-a286-df73871dcccb",
   "metadata": {},
   "outputs": [
    {
     "name": "stdout",
     "output_type": "stream",
     "text": [
      "+---+-----+--------------------+\n",
      "| id|label|               tweet|\n",
      "+---+-----+--------------------+\n",
      "|  1|    0|#fingerprint #Pre...|\n",
      "|  2|    0|Finally a transpa...|\n",
      "|  3|    0|We love this! Wou...|\n",
      "|  4|    0|I'm wired I know ...|\n",
      "|  5|    1|What amazing serv...|\n",
      "|  6|    1|iPhone software u...|\n",
      "|  7|    0|Happy for us .. #...|\n",
      "|  8|    0|New Type C charge...|\n",
      "|  9|    0|Bout to go shoppi...|\n",
      "| 10|    0|Photo: #fun #self...|\n",
      "| 11|    1|hey #apple when y...|\n",
      "| 12|    1|Ha! Not heavy mac...|\n",
      "| 13|    1|Contemplating giv...|\n",
      "| 14|    0|I just made anoth...|\n",
      "| 15|    1|@shaqlockholmes @...|\n",
      "| 16|    0|From #DeepEllum t...|\n",
      "| 17|    0|Like and Share if...|\n",
      "| 18|    0|Go crazy !! #ipho...|\n",
      "| 19|    1|The reason I don'...|\n",
      "| 20|    1|How is the apple ...|\n",
      "+---+-----+--------------------+\n",
      "only showing top 20 rows\n"
     ]
    }
   ],
   "source": [
    "df.show()"
   ]
  },
  {
   "cell_type": "code",
   "execution_count": 11,
   "id": "dbd66aa4-e90a-47f0-ae86-bc1061cda213",
   "metadata": {},
   "outputs": [
    {
     "name": "stdout",
     "output_type": "stream",
     "text": [
      "+-------+-----------------+-------------------+--------------------+\n",
      "|summary|               id|              label|               tweet|\n",
      "+-------+-----------------+-------------------+--------------------+\n",
      "|  count|             7920|               7920|                7920|\n",
      "|   mean|           3960.5| 0.2558080808080808|                NULL|\n",
      "| stddev|2286.451399002393|0.43634200610479335|                NULL|\n",
      "|    min|                1|                  0| #Thanksgiving! D...|\n",
      "|    max|             7920|                  1|｡✷ 𝒜 𝓌𝑒𝓁𝓁-𝓇...|\n",
      "+-------+-----------------+-------------------+--------------------+\n",
      "\n"
     ]
    }
   ],
   "source": [
    "df.describe().show()"
   ]
  },
  {
   "cell_type": "code",
   "execution_count": 13,
   "id": "4480f011-d8a8-45b9-83fc-c7fab7c3c3de",
   "metadata": {},
   "outputs": [
    {
     "name": "stdout",
     "output_type": "stream",
     "text": [
      "root\n",
      " |-- id: integer (nullable = true)\n",
      " |-- label: integer (nullable = true)\n",
      " |-- tweet: string (nullable = true)\n",
      "\n"
     ]
    }
   ],
   "source": [
    "df.printSchema()"
   ]
  },
  {
   "cell_type": "code",
   "execution_count": 17,
   "id": "87815b48-f1a5-430d-a49c-31351467e2df",
   "metadata": {},
   "outputs": [
    {
     "name": "stdout",
     "output_type": "stream",
     "text": [
      "+--------------------+\n",
      "|               tweet|\n",
      "+--------------------+\n",
      "|#fingerprint #Pre...|\n",
      "|Finally a transpa...|\n",
      "|We love this! Wou...|\n",
      "|I'm wired I know ...|\n",
      "|What amazing serv...|\n",
      "|iPhone software u...|\n",
      "|Happy for us .. #...|\n",
      "|New Type C charge...|\n",
      "|Bout to go shoppi...|\n",
      "|Photo: #fun #self...|\n",
      "|hey #apple when y...|\n",
      "|Ha! Not heavy mac...|\n",
      "|Contemplating giv...|\n",
      "|I just made anoth...|\n",
      "|@shaqlockholmes @...|\n",
      "|From #DeepEllum t...|\n",
      "|Like and Share if...|\n",
      "|Go crazy !! #ipho...|\n",
      "|The reason I don'...|\n",
      "|How is the apple ...|\n",
      "+--------------------+\n",
      "only showing top 20 rows\n"
     ]
    }
   ],
   "source": [
    "df.select('tweet').show()"
   ]
  },
  {
   "cell_type": "code",
   "execution_count": 20,
   "id": "8da7ed02-55ba-4a30-8f57-6d327f9429fa",
   "metadata": {},
   "outputs": [],
   "source": [
    "from pyspark.sql.functions import col, lower, regexp_replace\n",
    "from pyspark.ml.feature import Tokenizer, StopWordsRemover, HashingTF, IDF, StringIndexer"
   ]
  },
  {
   "cell_type": "code",
   "execution_count": null,
   "id": "fc5c5423-ed73-42d6-9e49-129e47c4c32f",
   "metadata": {},
   "outputs": [],
   "source": []
  }
 ],
 "metadata": {
  "kernelspec": {
   "display_name": "Python [conda env:base] *",
   "language": "python",
   "name": "conda-base-py"
  },
  "language_info": {
   "codemirror_mode": {
    "name": "ipython",
    "version": 3
   },
   "file_extension": ".py",
   "mimetype": "text/x-python",
   "name": "python",
   "nbconvert_exporter": "python",
   "pygments_lexer": "ipython3",
   "version": "3.12.7"
  }
 },
 "nbformat": 4,
 "nbformat_minor": 5
}
